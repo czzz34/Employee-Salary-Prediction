{
  "cells": [
    {
      "cell_type": "code",
      "execution_count": null,
      "metadata": {
        "id": "g0fjbUe7ZdNF"
      },
      "outputs": [],
      "source": [
        "import pandas as pd"
      ]
    },
    {
      "cell_type": "code",
      "execution_count": null,
      "metadata": {
        "id": "f6dzEljHZ2Dl"
      },
      "outputs": [],
      "source": [
        "data = pd.read_csv(\"Employee Salary prediction.csv\")"
      ]
    },
    {
      "cell_type": "code",
      "execution_count": null,
      "metadata": {
        "colab": {
          "base_uri": "https://localhost:8080/"
        },
        "id": "6xq2TKd0aNYN",
        "outputId": "38611bc7-9989-4582-ed89-58d683246e66"
      },
      "outputs": [],
      "source": [
        "data.shape"
      ]
    },
    {
      "cell_type": "code",
      "execution_count": null,
      "metadata": {},
      "outputs": [],
      "source": [
        "data.head(10)"
      ]
    },
    {
      "cell_type": "code",
      "execution_count": null,
      "metadata": {
        "id": "s_gByCskephp"
      },
      "outputs": [],
      "source": [
        "data = data.drop(columns=[\n",
        "    'posting_date',\n",
        "    'application_deadline',\n",
        "    'company_name'\n",
        "])\n",
        "data = data.drop(columns=['required_skills'])\n",
        "data = data.drop(columns=['employee_residence'])\n",
        "data = data.drop(columns=['job_description_length'])\n",
        "data = data.drop(columns=['benefits_score'])\n",
        "data=data.drop(columns=['job_id'])\n",
        "data = data.drop(columns=['salary_currency'])"
      ]
    },
    {
      "cell_type": "code",
      "execution_count": null,
      "metadata": {
        "colab": {
          "base_uri": "https://localhost:8080/"
        },
        "id": "OuoWnH5ZmcDi",
        "outputId": "0ae2de08-131c-475d-a023-53777359f06c"
      },
      "outputs": [],
      "source": [
        "# Map company locations to regions\n",
        "def map_company_region(country):\n",
        "    asia = ['India', 'China', 'Japan', 'Singapore', 'Israel', 'South Korea']\n",
        "    europe = ['Germany', 'Denmark', 'France', 'Austria', 'Sweden', 'Ireland', 'Switzerland',\n",
        "              'Finland', 'Netherlands', 'United Kingdom', 'Norway']\n",
        "    america = ['United States', 'Canada']\n",
        "    australia = ['Australia']\n",
        "\n",
        "    if country in asia:\n",
        "        return 'Asia'\n",
        "    elif country in europe:\n",
        "        return 'Europe'\n",
        "    elif country in america:\n",
        "        return 'America'\n",
        "    elif country in australia:\n",
        "        return 'Other'\n",
        "    else:\n",
        "        return 'Other'\n",
        "\n",
        "# Apply the mapping\n",
        "data['company_location'] = data['company_location'].apply(map_company_region)\n",
        "\n",
        "# (Optional) Preview the result\n",
        "print(data['company_location'].value_counts())\n"
      ]
    },
    {
      "cell_type": "code",
      "execution_count": null,
      "metadata": {
        "colab": {
          "base_uri": "https://localhost:8080/"
        },
        "id": "trRYico0oDc3",
        "outputId": "b7dd0b1b-b4d7-4a93-c2e1-c06ea7fb5ecc"
      },
      "outputs": [],
      "source": [
        "# map job titles to broader categories\n",
        "def map_job_title(title):\n",
        "    title = title.lower()\n",
        "    if 'engineer' in title:\n",
        "        return 'Engineer'\n",
        "    elif 'scientist' in title:\n",
        "        return 'Scientist'\n",
        "    elif 'analyst' in title:\n",
        "        return 'Analyst'\n",
        "    elif 'manager' in title or 'head' in title:\n",
        "        return 'Manager'\n",
        "    elif 'consultant' in title or 'specialist' in title:\n",
        "        return 'Consultant'\n",
        "    elif 'architect' in title:\n",
        "        return 'Architect'\n",
        "    elif 'research' in title:\n",
        "        return 'Research'\n",
        "    else:\n",
        "        return 'Other'\n",
        "\n",
        "# Apply the function and replace the original column\n",
        "data['job_title'] = data['job_title'].apply(map_job_title)\n",
        "\n",
        "# Optional: Check the value counts\n",
        "print(data['job_title'].value_counts())\n"
      ]
    },
    {
      "cell_type": "code",
      "execution_count": null,
      "metadata": {
        "colab": {
          "base_uri": "https://localhost:8080/"
        },
        "id": "Bv5EPt9rqxht",
        "outputId": "2cf71ed4-16bc-4962-aee9-551e3ffec62d"
      },
      "outputs": [],
      "source": [
        "data.shape"
      ]
    },
    {
      "cell_type": "code",
      "execution_count": null,
      "metadata": {
        "colab": {
          "base_uri": "https://localhost:8080/"
        },
        "id": "5M5blbv4ur3h",
        "outputId": "8710cdad-d9ab-4b94-e287-05b8f4aa22b8"
      },
      "outputs": [],
      "source": [
        "\n",
        "# (1) Clean column names\n",
        "data.columns = data.columns.str.strip()\n",
        "\n",
        "# (2) Define salary bins (7 bins => 8 edges)\n",
        "salary_bins = [0, 70000, 100000, 140000,  240000, 420000]\n",
        "\n",
        "# (3) Define labels for each bin (must be 7 labels)\n",
        "salary_labels = [\n",
        "    '0–70k',\n",
        "    '70k–100k',\n",
        "    '100k–140k',\n",
        "    '160k–240k',\n",
        "    '240k+'\n",
        "]\n",
        "\n",
        "# (4) Create the categorical column\n",
        "if 'salary_usd' in data.columns:\n",
        "    data['salary_range'] = pd.cut(\n",
        "        data['salary_usd'],\n",
        "        bins=salary_bins,\n",
        "        labels=salary_labels,\n",
        "        include_lowest=True\n",
        "    )\n",
        "    # Optional: drop the original salary column\n",
        "    data.drop(columns=['salary_usd'], inplace=True)\n",
        "\n",
        "    # (5) Display class distribution\n",
        "    print(data['salary_range'].value_counts().sort_index())\n",
        "else:\n",
        "    print(\"Error: 'salary_usd' column not found.\")\n"
      ]
    },
    {
      "cell_type": "code",
      "execution_count": null,
      "metadata": {
        "colab": {
          "base_uri": "https://localhost:8080/"
        },
        "id": "xH9_WcPOxJrv",
        "outputId": "d0a1b117-937f-4963-c1c5-8fd8ca1257c9"
      },
      "outputs": [],
      "source": [
        "data = data[data['salary_range'] != '240k+']\n"
      ]
    },
    {
      "cell_type": "code",
      "execution_count": null,
      "metadata": {
        "id": "s--KKtDu2FOU"
      },
      "outputs": [],
      "source": [
        "import matplotlib.pyplot as plt   #visualization\n"
      ]
    },
    {
      "cell_type": "code",
      "execution_count": null,
      "metadata": {
        "colab": {
          "base_uri": "https://localhost:8080/",
          "height": 430
        },
        "id": "jaob1bY96_nx",
        "outputId": "450f588c-adb1-4155-97bf-8b2f67f41d61"
      },
      "outputs": [],
      "source": [
        "plt.boxplot(data['industry'])\n",
        "plt.show()\n",
        "print(data['industry'].value_counts())"
      ]
    },
    {
      "cell_type": "code",
      "execution_count": null,
      "metadata": {
        "id": "BvxGaZth8AOd"
      },
      "outputs": [],
      "source": [
        "from sklearn.preprocessing import LabelEncoder\n",
        "encoder=LabelEncoder()\n",
        "data['job_title']=encoder.fit_transform(data['job_title'])\n",
        "data['experience_level']=encoder.fit_transform(data['experience_level'])\n",
        "data['company_location']=encoder.fit_transform(data['company_location'])\n",
        "data['company_size']=encoder.fit_transform(data['company_size'])\n",
        "data['employment_type']=encoder.fit_transform(data['employment_type'])\n",
        "data['remote_ratio']=encoder.fit_transform(data['remote_ratio'])\n",
        "data['education_required']=encoder.fit_transform(data['education_required'])\n",
        "data['industry']=encoder.fit_transform(data['industry'])"
      ]
    },
    {
      "cell_type": "code",
      "execution_count": null,
      "metadata": {
        "colab": {
          "base_uri": "https://localhost:8080/",
          "height": 206
        },
        "id": "4Yf5zYF98B5y",
        "outputId": "0c2bc853-9759-4e4f-acc3-a626744742b8"
      },
      "outputs": [],
      "source": [
        "data.head(5)"
      ]
    },
    {
      "cell_type": "code",
      "execution_count": null,
      "metadata": {
        "colab": {
          "base_uri": "https://localhost:8080/",
          "height": 1000
        },
        "id": "fX3YcqDx9kys",
        "outputId": "e156c915-09d5-466f-b6df-98f7a6db8fa8"
      },
      "outputs": [],
      "source": [
        "x=data.drop(columns=['salary_range'])\n",
        "y=data['salary_range']\n",
        "x"
      ]
    },
    {
      "cell_type": "code",
      "execution_count": null,
      "metadata": {
        "colab": {
          "base_uri": "https://localhost:8080/"
        },
        "id": "diyCgPTZ97Kg",
        "outputId": "b88a2ef1-91a8-4a25-a152-6ef4d4a4686c"
      },
      "outputs": [],
      "source": [
        "from sklearn.pipeline import Pipeline\n",
        "from sklearn.model_selection import train_test_split\n",
        "from sklearn.metrics import accuracy_score, classification_report\n",
        "from sklearn.linear_model import LogisticRegression\n",
        "from sklearn.ensemble import RandomForestClassifier, GradientBoostingClassifier\n",
        "from sklearn.neighbors import KNeighborsClassifier\n",
        "from sklearn.svm import SVC\n",
        "\n",
        "X_train, X_test, y_train, y_test = train_test_split(x, y, test_size=0.25, random_state=32)\n",
        "\n",
        "models = {\n",
        "    \"LogisticRegression\": LogisticRegression(),\n",
        "    \"RandomForest\": RandomForestClassifier(),\n",
        "    \"KNN\": KNeighborsClassifier(),\n",
        "    \"SVM\": SVC(),\n",
        "    \"GradientBoosting\": GradientBoostingClassifier()\n",
        "}\n",
        "\n",
        "results = {}\n",
        "\n",
        "for name, model in models.items():\n",
        "    # Only scale for models that need it\n",
        "    if name in [\"LogisticRegression\", \"SVM\", \"KNN\"]:\n",
        "        pipe = Pipeline([\n",
        "            ('model', model)\n",
        "        ])\n",
        "    else:\n",
        "        pipe = Pipeline([\n",
        "            ('model', model)\n",
        "        ])\n",
        "\n",
        "    pipe.fit(X_train, y_train)\n",
        "    y_pred = pipe.predict(X_test)\n",
        "    acc = accuracy_score(y_test, y_pred)\n",
        "    results[name] = acc\n",
        "    print(f\"{name} Accuracy: {acc:.4f}\")\n",
        "    print(classification_report(y_test, y_pred))\n"
      ]
    },
    {
      "cell_type": "code",
      "execution_count": null,
      "metadata": {
        "colab": {
          "base_uri": "https://localhost:8080/",
          "height": 539
        },
        "id": "rw4B2cIzAbpb",
        "outputId": "fd08f217-79d2-4276-c058-c9dbd5a62584"
      },
      "outputs": [],
      "source": [
        "import matplotlib.pyplot as plt\n",
        "plt.bar(results.keys(), results.values(), color='skyblue')\n",
        "plt.ylabel('Accuracy Score')\n",
        "plt.title('Model Comparison')\n",
        "plt.xticks(rotation=45)\n",
        "plt.grid(True)\n",
        "plt.show()\n"
      ]
    },
    {
      "cell_type": "code",
      "execution_count": null,
      "metadata": {
        "colab": {
          "base_uri": "https://localhost:8080/"
        },
        "id": "kvYaopYiEafc",
        "outputId": "400ca2f5-969a-4ab7-ab46-063ff1582fac"
      },
      "outputs": [],
      "source": [
        "from sklearn.linear_model import LogisticRegression\n",
        "from sklearn.ensemble import RandomForestClassifier, GradientBoostingClassifier\n",
        "from sklearn.neighbors import KNeighborsClassifier\n",
        "from sklearn.svm import SVC\n",
        "from sklearn.model_selection import train_test_split\n",
        "from sklearn.metrics import accuracy_score\n",
        "import joblib\n",
        "\n",
        "# Train-test split\n",
        "X_train, X_test, y_train, y_test = train_test_split(x, y, test_size=0.25, random_state=32)\n",
        "\n",
        "# Define models\n",
        "models = {\n",
        "    \"LogisticRegression\": LogisticRegression(max_iter=1000),\n",
        "    \"RandomForest\": RandomForestClassifier(),\n",
        "    \"KNN\": KNeighborsClassifier(),\n",
        "    \"SVM\": SVC(),\n",
        "    \"GradientBoosting\": GradientBoostingClassifier()\n",
        "}\n",
        "\n",
        "results = {}\n",
        "\n",
        "# Train and evaluate\n",
        "for name, model in models.items():\n",
        "    model.fit(X_train, y_train)\n",
        "    preds = model.predict(X_test)\n",
        "    acc = accuracy_score(y_test, preds)\n",
        "    results[name] = acc\n",
        "    print(f\"{name}: {acc:.4f}\")\n",
        "\n",
        "# Get best model\n",
        "best_model_name = max(results, key=results.get)\n",
        "best_model = models[best_model_name]\n",
        "print(f\"\\n✅ Best model: {best_model_name} with accuracy {results[best_model_name]:.4f}\")\n",
        "\n",
        "# Save the best model\n",
        "joblib.dump(best_model, \"best_model.pkl\")\n",
        "print(\"✅ Saved best model as best_model.pkl\")\n"
      ]
    }
  ],
  "metadata": {
    "colab": {
      "provenance": []
    },
    "kernelspec": {
      "display_name": "Python 3",
      "name": "python3"
    },
    "language_info": {
      "codemirror_mode": {
        "name": "ipython",
        "version": 3
      },
      "file_extension": ".py",
      "mimetype": "text/x-python",
      "name": "python",
      "nbconvert_exporter": "python",
      "pygments_lexer": "ipython3",
      "version": "3.12.6"
    }
  },
  "nbformat": 4,
  "nbformat_minor": 0
}
